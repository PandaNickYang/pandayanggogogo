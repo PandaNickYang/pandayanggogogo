{
 "cells": [
  {
   "cell_type": "code",
   "execution_count": 1,
   "metadata": {},
   "outputs": [
    {
     "name": "stderr",
     "output_type": "stream",
     "text": [
      "Using TensorFlow backend.\n"
     ]
    }
   ],
   "source": [
    "%matplotlib inline\n",
    "\n",
    "import numpy as np\n",
    "from ipywidgets import interact\n",
    "import matplotlib.pyplot as plt\n",
    "from keras.datasets import mnist\n",
    "\n",
    "(x_train, y_train), (x_test, y_test) = mnist.load_data()\n"
   ]
  },
  {
   "cell_type": "code",
   "execution_count": 2,
   "metadata": {},
   "outputs": [
    {
     "name": "stdout",
     "output_type": "stream",
     "text": [
      "WARNING:tensorflow:From c:\\users\\msi\\appdata\\local\\programs\\python\\python36\\lib\\site-packages\\tensorflow\\python\\framework\\op_def_library.py:263: colocate_with (from tensorflow.python.framework.ops) is deprecated and will be removed in a future version.\n",
      "Instructions for updating:\n",
      "Colocations handled automatically by placer.\n",
      "_________________________________________________________________\n",
      "Layer (type)                 Output Shape              Param #   \n",
      "=================================================================\n",
      "dense_1 (Dense)              (None, 4)                 3140      \n",
      "_________________________________________________________________\n",
      "activation_1 (Activation)    (None, 4)                 0         \n",
      "_________________________________________________________________\n",
      "dense_2 (Dense)              (None, 2)                 10        \n",
      "_________________________________________________________________\n",
      "activation_2 (Activation)    (None, 2)                 0         \n",
      "_________________________________________________________________\n",
      "dense_3 (Dense)              (None, 10)                30        \n",
      "_________________________________________________________________\n",
      "activation_3 (Activation)    (None, 10)                0         \n",
      "=================================================================\n",
      "Total params: 3,180\n",
      "Trainable params: 3,180\n",
      "Non-trainable params: 0\n",
      "_________________________________________________________________\n"
     ]
    }
   ],
   "source": [
    "from keras.models import Sequential\n",
    "from keras.layers import Dense,Activation\n",
    "from keras.optimizers import SGD\n",
    "from keras.utils import np_utils\n",
    "model= Sequential()\n",
    "model.add(Dense(4, input_dim = 784))\n",
    "model.add(Activation('sigmoid'))\n",
    "model.add(Dense(2))\n",
    "model.add(Activation('sigmoid'))\n",
    "model.add(Dense(10))\n",
    "model.add(Activation('softmax'))\n",
    "model.compile(loss = 'mse', optimizer=SGD(lr = 0.087), metrics=['accuracy'])\n",
    "model.summary()\n"
   ]
  },
  {
   "cell_type": "code",
   "execution_count": 3,
   "metadata": {},
   "outputs": [
    {
     "name": "stdout",
     "output_type": "stream",
     "text": [
      "WARNING:tensorflow:From c:\\users\\msi\\appdata\\local\\programs\\python\\python36\\lib\\site-packages\\tensorflow\\python\\ops\\math_ops.py:3066: to_int32 (from tensorflow.python.ops.math_ops) is deprecated and will be removed in a future version.\n",
      "Instructions for updating:\n",
      "Use tf.cast instead.\n",
      "Epoch 1/20\n",
      "60000/60000 [==============================] - 1s 18us/step - loss: 0.0900 - acc: 0.0987\n",
      "Epoch 2/20\n",
      "60000/60000 [==============================] - 1s 14us/step - loss: 0.0895 - acc: 0.1032\n",
      "Epoch 3/20\n",
      "60000/60000 [==============================] - 1s 14us/step - loss: 0.0892 - acc: 0.1466\n",
      "Epoch 4/20\n",
      "60000/60000 [==============================] - 1s 13us/step - loss: 0.0889 - acc: 0.1761\n",
      "Epoch 5/20\n",
      "60000/60000 [==============================] - 1s 14us/step - loss: 0.0887 - acc: 0.2207\n",
      "Epoch 6/20\n",
      "60000/60000 [==============================] - 1s 13us/step - loss: 0.0886 - acc: 0.2133\n",
      "Epoch 7/20\n",
      "60000/60000 [==============================] - 1s 13us/step - loss: 0.0884 - acc: 0.1723\n",
      "Epoch 8/20\n",
      "60000/60000 [==============================] - 1s 13us/step - loss: 0.0883 - acc: 0.1682\n",
      "Epoch 9/20\n",
      "60000/60000 [==============================] - 1s 13us/step - loss: 0.0881 - acc: 0.1730\n",
      "Epoch 10/20\n",
      "60000/60000 [==============================] - 1s 15us/step - loss: 0.0880 - acc: 0.1691\n",
      "Epoch 11/20\n",
      "60000/60000 [==============================] - 1s 13us/step - loss: 0.0879 - acc: 0.1721\n",
      "Epoch 12/20\n",
      "60000/60000 [==============================] - 1s 13us/step - loss: 0.0877 - acc: 0.1781\n",
      "Epoch 13/20\n",
      "60000/60000 [==============================] - 1s 13us/step - loss: 0.0875 - acc: 0.2619\n",
      "Epoch 14/20\n",
      "60000/60000 [==============================] - 1s 13us/step - loss: 0.0874 - acc: 0.2705\n",
      "Epoch 15/20\n",
      "60000/60000 [==============================] - 1s 13us/step - loss: 0.0872 - acc: 0.2423\n",
      "Epoch 16/20\n",
      "60000/60000 [==============================] - 1s 13us/step - loss: 0.0870 - acc: 0.2343\n",
      "Epoch 17/20\n",
      "60000/60000 [==============================] - 1s 13us/step - loss: 0.0868 - acc: 0.1930\n",
      "Epoch 18/20\n",
      "60000/60000 [==============================] - 1s 14us/step - loss: 0.0866 - acc: 0.1943\n",
      "Epoch 19/20\n",
      "60000/60000 [==============================] - 1s 14us/step - loss: 0.0864 - acc: 0.1948\n",
      "Epoch 20/20\n",
      "60000/60000 [==============================] - 1s 13us/step - loss: 0.0861 - acc: 0.1948\n"
     ]
    },
    {
     "data": {
      "text/plain": [
       "<keras.callbacks.History at 0x289ecab7748>"
      ]
     },
     "execution_count": 3,
     "metadata": {},
     "output_type": "execute_result"
    }
   ],
   "source": [
    "x_train = x_train.reshape(60000, 784)\n",
    "x_train = np.matrix(x_train,dtype = 'float64')\n",
    "x_test = x_test.reshape(10000, 784)\n",
    "y_train = np_utils.to_categorical(y_train, 10)\n",
    "y_test = np_utils.to_categorical(y_test, 10)\n",
    "model.fit(x_train,y_train,batch_size=100,epochs=20)\n"
   ]
  },
  {
   "cell_type": "code",
   "execution_count": 4,
   "metadata": {},
   "outputs": [
    {
     "name": "stdout",
     "output_type": "stream",
     "text": [
      "_________________________________________________________________\n",
      "Layer (type)                 Output Shape              Param #   \n",
      "=================================================================\n",
      "dense_4 (Dense)              (None, 30)                23550     \n",
      "_________________________________________________________________\n",
      "activation_4 (Activation)    (None, 30)                0         \n",
      "_________________________________________________________________\n",
      "dense_5 (Dense)              (None, 20)                620       \n",
      "_________________________________________________________________\n",
      "activation_5 (Activation)    (None, 20)                0         \n",
      "_________________________________________________________________\n",
      "dense_6 (Dense)              (None, 10)                210       \n",
      "_________________________________________________________________\n",
      "activation_6 (Activation)    (None, 10)                0         \n",
      "=================================================================\n",
      "Total params: 24,380\n",
      "Trainable params: 24,380\n",
      "Non-trainable params: 0\n",
      "_________________________________________________________________\n"
     ]
    }
   ],
   "source": [
    "model2= Sequential()\n",
    "model2.add(Dense(30, input_dim = 784))\n",
    "model2.add(Activation('sigmoid'))\n",
    "model2.add(Dense(20))\n",
    "model2.add(Activation('sigmoid'))\n",
    "model2.add(Dense(10))\n",
    "model2.add(Activation('softmax'))\n",
    "model2.compile(loss = 'mse', optimizer=SGD(lr = 0.3), metrics=['accuracy'])\n",
    "model2.summary()\n"
   ]
  },
  {
   "cell_type": "code",
   "execution_count": 5,
   "metadata": {},
   "outputs": [
    {
     "name": "stdout",
     "output_type": "stream",
     "text": [
      "Epoch 1/20\n",
      "60000/60000 [==============================] - 1s 17us/step - loss: 0.0867 - acc: 0.3209\n",
      "Epoch 2/20\n",
      "60000/60000 [==============================] - 1s 14us/step - loss: 0.0793 - acc: 0.4495\n",
      "Epoch 3/20\n",
      "60000/60000 [==============================] - 1s 15us/step - loss: 0.0718 - acc: 0.5688\n",
      "Epoch 4/20\n",
      "60000/60000 [==============================] - 1s 14us/step - loss: 0.0635 - acc: 0.6639\n",
      "Epoch 5/20\n",
      "60000/60000 [==============================] - 1s 15us/step - loss: 0.0538 - acc: 0.7457\n",
      "Epoch 6/20\n",
      "60000/60000 [==============================] - 1s 15us/step - loss: 0.0443 - acc: 0.7897\n",
      "Epoch 7/20\n",
      "60000/60000 [==============================] - 1s 18us/step - loss: 0.0368 - acc: 0.8063\n",
      "Epoch 8/20\n",
      "60000/60000 [==============================] - 1s 15us/step - loss: 0.0316 - acc: 0.8136\n",
      "Epoch 9/20\n",
      "60000/60000 [==============================] - 1s 18us/step - loss: 0.0278 - acc: 0.8316\n",
      "Epoch 10/20\n",
      "60000/60000 [==============================] - 1s 17us/step - loss: 0.0249 - acc: 0.8681\n",
      "Epoch 11/20\n",
      "60000/60000 [==============================] - 1s 16us/step - loss: 0.0225 - acc: 0.8829\n",
      "Epoch 12/20\n",
      "60000/60000 [==============================] - 1s 17us/step - loss: 0.0208 - acc: 0.8880\n",
      "Epoch 13/20\n",
      "60000/60000 [==============================] - 1s 18us/step - loss: 0.0194 - acc: 0.8926\n",
      "Epoch 14/20\n",
      "60000/60000 [==============================] - 1s 18us/step - loss: 0.0187 - acc: 0.8939\n",
      "Epoch 15/20\n",
      "60000/60000 [==============================] - 1s 17us/step - loss: 0.0181 - acc: 0.8960\n",
      "Epoch 16/20\n",
      "60000/60000 [==============================] - 1s 17us/step - loss: 0.0173 - acc: 0.8989\n",
      "Epoch 17/20\n",
      "60000/60000 [==============================] - 1s 16us/step - loss: 0.0169 - acc: 0.9002\n",
      "Epoch 18/20\n",
      "60000/60000 [==============================] - 1s 16us/step - loss: 0.0161 - acc: 0.9039\n",
      "Epoch 19/20\n",
      "60000/60000 [==============================] - 1s 16us/step - loss: 0.0162 - acc: 0.9031\n",
      "Epoch 20/20\n",
      "60000/60000 [==============================] - 1s 18us/step - loss: 0.0156 - acc: 0.9056\n"
     ]
    }
   ],
   "source": [
    "model_2=model2.fit(x_train,y_train,batch_size=100,epochs=20)"
   ]
  },
  {
   "cell_type": "code",
   "execution_count": 6,
   "metadata": {},
   "outputs": [
    {
     "name": "stdout",
     "output_type": "stream",
     "text": [
      "_________________________________________________________________\n",
      "Layer (type)                 Output Shape              Param #   \n",
      "=================================================================\n",
      "dense_7 (Dense)              (None, 87)                68295     \n",
      "_________________________________________________________________\n",
      "activation_7 (Activation)    (None, 87)                0         \n",
      "_________________________________________________________________\n",
      "dense_8 (Dense)              (None, 47)                4136      \n",
      "_________________________________________________________________\n",
      "activation_8 (Activation)    (None, 47)                0         \n",
      "_________________________________________________________________\n",
      "dense_9 (Dense)              (None, 10)                480       \n",
      "_________________________________________________________________\n",
      "activation_9 (Activation)    (None, 10)                0         \n",
      "=================================================================\n",
      "Total params: 72,911\n",
      "Trainable params: 72,911\n",
      "Non-trainable params: 0\n",
      "_________________________________________________________________\n"
     ]
    }
   ],
   "source": [
    "model3= Sequential()\n",
    "model3.add(Dense(87, input_dim = 784))\n",
    "model3.add(Activation('sigmoid'))\n",
    "model3.add(Dense(47))\n",
    "model3.add(Activation('sigmoid'))\n",
    "model3.add(Dense(10))\n",
    "model3.add(Activation('softmax'))\n",
    "model3.compile(loss = 'mse', optimizer=SGD(lr = 0.3), metrics=['accuracy'])\n",
    "model3.summary()"
   ]
  },
  {
   "cell_type": "code",
   "execution_count": 7,
   "metadata": {
    "scrolled": true
   },
   "outputs": [
    {
     "name": "stdout",
     "output_type": "stream",
     "text": [
      "Epoch 1/20\n",
      "60000/60000 [==============================] - 2s 26us/step - loss: 0.0847 - acc: 0.3408\n",
      "Epoch 2/20\n",
      "60000/60000 [==============================] - 2s 26us/step - loss: 0.0661 - acc: 0.5860\n",
      "Epoch 3/20\n",
      "60000/60000 [==============================] - 1s 24us/step - loss: 0.0467 - acc: 0.7321\n",
      "Epoch 4/20\n",
      "60000/60000 [==============================] - 1s 22us/step - loss: 0.0340 - acc: 0.8141\n",
      "Epoch 5/20\n",
      "60000/60000 [==============================] - 1s 22us/step - loss: 0.0258 - acc: 0.8700\n",
      "Epoch 6/20\n",
      "60000/60000 [==============================] - 1s 22us/step - loss: 0.0207 - acc: 0.8911\n",
      "Epoch 7/20\n",
      "60000/60000 [==============================] - 1s 22us/step - loss: 0.0179 - acc: 0.9008\n",
      "Epoch 8/20\n",
      "60000/60000 [==============================] - 1s 22us/step - loss: 0.0162 - acc: 0.9075\n",
      "Epoch 9/20\n",
      "60000/60000 [==============================] - 1s 22us/step - loss: 0.0151 - acc: 0.9136\n",
      "Epoch 10/20\n",
      "60000/60000 [==============================] - 1s 21us/step - loss: 0.0143 - acc: 0.9159\n",
      "Epoch 11/20\n",
      "60000/60000 [==============================] - 1s 21us/step - loss: 0.0135 - acc: 0.9206\n",
      "Epoch 12/20\n",
      "60000/60000 [==============================] - 1s 23us/step - loss: 0.0129 - acc: 0.9234\n",
      "Epoch 13/20\n",
      "60000/60000 [==============================] - 1s 24us/step - loss: 0.0124 - acc: 0.9252\n",
      "Epoch 14/20\n",
      "60000/60000 [==============================] - 1s 22us/step - loss: 0.0120 - acc: 0.9262\n",
      "Epoch 15/20\n",
      "60000/60000 [==============================] - 1s 25us/step - loss: 0.0116 - acc: 0.9308\n",
      "Epoch 16/20\n",
      "60000/60000 [==============================] - 1s 22us/step - loss: 0.0112 - acc: 0.9322\n",
      "Epoch 17/20\n",
      "60000/60000 [==============================] - 1s 24us/step - loss: 0.0110 - acc: 0.9332\n",
      "Epoch 18/20\n",
      "60000/60000 [==============================] - 1s 23us/step - loss: 0.0108 - acc: 0.9343\n",
      "Epoch 19/20\n",
      "60000/60000 [==============================] - 1s 21us/step - loss: 0.0104 - acc: 0.9372\n",
      "Epoch 20/20\n",
      "60000/60000 [==============================] - 1s 21us/step - loss: 0.0102 - acc: 0.9376\n"
     ]
    }
   ],
   "source": [
    "model_3=model3.fit(x_train,y_train,batch_size=100,epochs=20)"
   ]
  },
  {
   "cell_type": "code",
   "execution_count": 8,
   "metadata": {},
   "outputs": [
    {
     "data": {
      "text/plain": [
       "<matplotlib.legend.Legend at 0x289ee3b1550>"
      ]
     },
     "execution_count": 8,
     "metadata": {},
     "output_type": "execute_result"
    },
    {
     "data": {
      "image/png": "[encoded data removed]",
      "text/plain": [
       "<Figure size 432x288 with 1 Axes>"
      ]
     },
     "metadata": {},
     "output_type": "display_data"
    }
   ],
   "source": [
    "plt.plot(model_2.history[\"acc\"])\n",
    "plt.plot(model_3.history[\"acc\"])\n",
    "plt.ylabel('accuracy')\n",
    "plt.legend(['model2','model3'],loc = 'best')"
   ]
  },
  {
   "cell_type": "code",
   "execution_count": null,
   "metadata": {},
   "outputs": [],
   "source": []
  }
 ],
 "metadata": {
  "kernelspec": {
   "display_name": "Python 3",
   "language": "python",
   "name": "python3"
  },
  "language_info": {
   "codemirror_mode": {
    "name": "ipython",
    "version": 3
   },
   "file_extension": ".py",
   "mimetype": "text/x-python",
   "name": "python",
   "nbconvert_exporter": "python",
   "pygments_lexer": "ipython3",
   "version": "3.6.5"
  }
 },
 "nbformat": 4,
 "nbformat_minor": 2
}
