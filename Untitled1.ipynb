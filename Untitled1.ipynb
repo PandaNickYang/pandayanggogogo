{
 "cells": [
  {
   "cell_type": "code",
   "execution_count": null,
   "metadata": {},
   "outputs": [
    {
     "name": "stdout",
     "output_type": "stream",
     "text": [
      "env: KERAS_BACKEND=tensorflow\n"
     ]
    },
    {
     "name": "stderr",
     "output_type": "stream",
     "text": [
      "Using TensorFlow backend.\n"
     ]
    },
    {
     "name": "stdout",
     "output_type": "stream",
     "text": [
      "WARNING:tensorflow:From c:\\users\\msi\\appdata\\local\\programs\\python\\python36\\lib\\site-packages\\tensorflow\\python\\framework\\op_def_library.py:263: colocate_with (from tensorflow.python.framework.ops) is deprecated and will be removed in a future version.\n",
      "Instructions for updating:\n",
      "Colocations handled automatically by placer.\n",
      "_________________________________________________________________\n",
      "Layer (type)                 Output Shape              Param #   \n",
      "=================================================================\n",
      "conv2d_1 (Conv2D)            (None, 28, 28, 10)        260       \n",
      "_________________________________________________________________\n",
      "activation_1 (Activation)    (None, 28, 28, 10)        0         \n",
      "_________________________________________________________________\n",
      "max_pooling2d_1 (MaxPooling2 (None, 9, 9, 10)          0         \n",
      "_________________________________________________________________\n",
      "conv2d_2 (Conv2D)            (None, 9, 9, 15)          3765      \n",
      "_________________________________________________________________\n",
      "activation_2 (Activation)    (None, 9, 9, 15)          0         \n",
      "_________________________________________________________________\n",
      "max_pooling2d_2 (MaxPooling2 (None, 3, 3, 15)          0         \n",
      "_________________________________________________________________\n",
      "conv2d_3 (Conv2D)            (None, 3, 3, 30)          11280     \n",
      "_________________________________________________________________\n",
      "activation_3 (Activation)    (None, 3, 3, 30)          0         \n",
      "_________________________________________________________________\n",
      "max_pooling2d_3 (MaxPooling2 (None, 1, 1, 30)          0         \n",
      "_________________________________________________________________\n",
      "flatten_1 (Flatten)          (None, 30)                0         \n",
      "_________________________________________________________________\n",
      "dense_1 (Dense)              (None, 5)                 155       \n",
      "_________________________________________________________________\n",
      "activation_4 (Activation)    (None, 5)                 0         \n",
      "_________________________________________________________________\n",
      "dense_2 (Dense)              (None, 10)                60        \n",
      "_________________________________________________________________\n",
      "activation_5 (Activation)    (None, 10)                0         \n",
      "=================================================================\n",
      "Total params: 15,520\n",
      "Trainable params: 15,520\n",
      "Non-trainable params: 0\n",
      "_________________________________________________________________\n",
      "WARNING:tensorflow:From c:\\users\\msi\\appdata\\local\\programs\\python\\python36\\lib\\site-packages\\tensorflow\\python\\ops\\math_ops.py:3066: to_int32 (from tensorflow.python.ops.math_ops) is deprecated and will be removed in a future version.\n",
      "Instructions for updating:\n",
      "Use tf.cast instead.\n",
      "Train on 60000 samples, validate on 10000 samples\n",
      "Epoch 1/20\n",
      "60000/60000 [==============================] - 49s 818us/step - loss: 1.5596 - acc: 0.4924 - val_loss: 0.6883 - val_acc: 0.8135\n",
      "Epoch 2/20\n",
      "60000/60000 [==============================] - 47s 789us/step - loss: 0.5001 - acc: 0.8667 - val_loss: 0.3454 - val_acc: 0.9194\n",
      "Epoch 3/20\n",
      "60000/60000 [==============================] - 45s 742us/step - loss: 0.2787 - acc: 0.9304 - val_loss: 0.2319 - val_acc: 0.9433\n",
      "Epoch 4/20\n",
      "60000/60000 [==============================] - 46s 763us/step - loss: 0.2014 - acc: 0.9495 - val_loss: 0.1791 - val_acc: 0.9572\n",
      "Epoch 5/20\n",
      "60000/60000 [==============================] - 49s 823us/step - loss: 0.1635 - acc: 0.9586 - val_loss: 0.1507 - val_acc: 0.9614\n",
      "Epoch 6/20\n",
      "60000/60000 [==============================] - 71s 1ms/step - loss: 0.1363 - acc: 0.9655 - val_loss: 0.1350 - val_acc: 0.9647\n",
      "Epoch 7/20\n",
      "60000/60000 [==============================] - 82s 1ms/step - loss: 0.1199 - acc: 0.9695 - val_loss: 0.1183 - val_acc: 0.9690\n",
      "Epoch 8/20\n",
      "60000/60000 [==============================] - 73s 1ms/step - loss: 0.1076 - acc: 0.9725 - val_loss: 0.1139 - val_acc: 0.9712\n",
      "Epoch 9/20\n",
      "60000/60000 [==============================] - 57s 951us/step - loss: 0.0971 - acc: 0.9752 - val_loss: 0.1023 - val_acc: 0.9736\n",
      "Epoch 10/20\n",
      "60000/60000 [==============================] - 70s 1ms/step - loss: 0.0901 - acc: 0.9770 - val_loss: 0.0966 - val_acc: 0.9748\n",
      "Epoch 11/20\n",
      "17000/60000 [=======>......................] - ETA: 46s - loss: 0.0861 - acc: 0.9781"
     ]
    }
   ],
   "source": [
    "%env KERAS_BACKEND=tensorflow\n",
    "%matplotlib inline\n",
    "import numpy as np\n",
    "import matplotlib.pyplot as plt\n",
    "from keras.models import Sequential\n",
    "from keras.models import Model\n",
    "from keras.layers import Dense, Activation, Flatten\n",
    "from keras.layers import Conv2D, MaxPool2D\n",
    "from keras.utils import np_utils\n",
    "from keras.optimizers import Adagrad\n",
    "from keras.datasets import mnist\n",
    "(x_train, y_train), (x_test, y_test) = mnist.load_data()\n",
    "x_train = x_train.reshape(60000,28,28,1)\n",
    "x_test = x_test.reshape(10000,28,28,1)\n",
    "y_train = np_utils.to_categorical(y_train, 10)\n",
    "y_test = np_utils.to_categorical(y_test, 10)\n",
    "x_train = x_train/255\n",
    "x_test = x_test/255\n",
    "model = Sequential()\n",
    "model.add(Conv2D(10, (5,5), padding='same', input_shape=(28,28,1)))\n",
    "model.add(Activation('selu'))\n",
    "model.add(MaxPool2D(pool_size=(3,3)))\n",
    "\n",
    "\n",
    "model.add(Conv2D(15, (5,5), padding='same'))\n",
    "model.add(Activation('selu'))\n",
    "model.add(MaxPool2D(pool_size=(3,3)))\n",
    "\n",
    "\n",
    "model.add(Conv2D(30, (5,5), padding='same'))\n",
    "model.add(Activation('selu'))\n",
    "model.add(MaxPool2D(pool_size=(3,3)))\n",
    "\n",
    "\n",
    "model.add(Flatten())\n",
    "model.add(Dense(5))\n",
    "model.add(Activation('selu'))\n",
    "\n",
    "\n",
    "model.add(Dense(10))\n",
    "model.add(Activation('softmax'))\n",
    "model.compile(loss='categorical_crossentropy', optimizer=Adagrad(lr=0.03),metrics=['accuracy'])\n",
    "model.summary()\n",
    "model_out=model.fit(x_train, y_train, batch_size=1000, epochs=20,verbose =1,validation_data = (x_test,y_test))"
   ]
  },
  {
   "cell_type": "code",
   "execution_count": null,
   "metadata": {},
   "outputs": [],
   "source": []
  }
 ],
 "metadata": {
  "kernelspec": {
   "display_name": "Python 3",
   "language": "python",
   "name": "python3"
  },
  "language_info": {
   "codemirror_mode": {
    "name": "ipython",
    "version": 3
   },
   "file_extension": ".py",
   "mimetype": "text/x-python",
   "name": "python",
   "nbconvert_exporter": "python",
   "pygments_lexer": "ipython3",
   "version": "3.6.5"
  }
 },
 "nbformat": 4,
 "nbformat_minor": 2
}
