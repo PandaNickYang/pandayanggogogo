{
 "cells": [
  {
   "cell_type": "code",
   "execution_count": 50,
   "metadata": {},
   "outputs": [
    {
     "data": {
      "text/html": [
       "<div>\n",
       "<style scoped>\n",
       "    .dataframe tbody tr th:only-of-type {\n",
       "        vertical-align: middle;\n",
       "    }\n",
       "\n",
       "    .dataframe tbody tr th {\n",
       "        vertical-align: top;\n",
       "    }\n",
       "\n",
       "    .dataframe thead th {\n",
       "        text-align: right;\n",
       "    }\n",
       "</style>\n",
       "<table border=\"1\" class=\"dataframe\">\n",
       "  <thead>\n",
       "    <tr style=\"text-align: right;\">\n",
       "      <th></th>\n",
       "      <th>年份別</th>\n",
       "      <th>活產新生兒數</th>\n",
       "      <th>&lt;37週 (%)</th>\n",
       "      <th>37-38週 (%)</th>\n",
       "      <th>39-40週 (%)</th>\n",
       "      <th>41週 (%)</th>\n",
       "      <th>≧42週 (%)</th>\n",
       "    </tr>\n",
       "  </thead>\n",
       "  <tbody>\n",
       "    <tr>\n",
       "      <th>0</th>\n",
       "      <td>民國93年</td>\n",
       "      <td>217386</td>\n",
       "      <td>8.92</td>\n",
       "      <td>40.49</td>\n",
       "      <td>46.32</td>\n",
       "      <td>3.94</td>\n",
       "      <td>0.32</td>\n",
       "    </tr>\n",
       "    <tr>\n",
       "      <th>1</th>\n",
       "      <td>民國94年</td>\n",
       "      <td>206925</td>\n",
       "      <td>8.58</td>\n",
       "      <td>40.29</td>\n",
       "      <td>46.90</td>\n",
       "      <td>3.96</td>\n",
       "      <td>0.27</td>\n",
       "    </tr>\n",
       "    <tr>\n",
       "      <th>2</th>\n",
       "      <td>民國95年</td>\n",
       "      <td>205026</td>\n",
       "      <td>8.47</td>\n",
       "      <td>40.56</td>\n",
       "      <td>46.85</td>\n",
       "      <td>3.90</td>\n",
       "      <td>0.22</td>\n",
       "    </tr>\n",
       "    <tr>\n",
       "      <th>3</th>\n",
       "      <td>民國96年</td>\n",
       "      <td>203377</td>\n",
       "      <td>8.69</td>\n",
       "      <td>41.29</td>\n",
       "      <td>46.28</td>\n",
       "      <td>3.55</td>\n",
       "      <td>0.20</td>\n",
       "    </tr>\n",
       "    <tr>\n",
       "      <th>4</th>\n",
       "      <td>民國97年</td>\n",
       "      <td>196373</td>\n",
       "      <td>8.98</td>\n",
       "      <td>42.62</td>\n",
       "      <td>45.21</td>\n",
       "      <td>3.07</td>\n",
       "      <td>0.13</td>\n",
       "    </tr>\n",
       "  </tbody>\n",
       "</table>\n",
       "</div>"
      ],
      "text/plain": [
       "     年份別  活產新生兒數  <37週 (%)  37-38週 (%)  39-40週 (%)  41週 (%)  ≧42週 (%)\n",
       "0  民國93年  217386      8.92       40.49       46.32     3.94      0.32\n",
       "1  民國94年  206925      8.58       40.29       46.90     3.96      0.27\n",
       "2  民國95年  205026      8.47       40.56       46.85     3.90      0.22\n",
       "3  民國96年  203377      8.69       41.29       46.28     3.55      0.20\n",
       "4  民國97年  196373      8.98       42.62       45.21     3.07      0.13"
      ]
     },
     "execution_count": 50,
     "metadata": {},
     "output_type": "execute_result"
    }
   ],
   "source": [
    "%matplotlib inline\n",
    "from matplotlib.font_manager import FontProperties\n",
    "import numpy as np\n",
    "import pandas as pd\n",
    "import matplotlib.pyplot as plt\n",
    "pop=pd.read_csv(\"https://quality.data.gov.tw/dq_download_csv.php?nid=88451&md5_url=b74049add6505cf476eced77087cbc13\")\n",
    "pop.head()"
   ]
  },
  {
   "cell_type": "code",
   "execution_count": 83,
   "metadata": {},
   "outputs": [
    {
     "data": {
      "text/plain": [
       "<matplotlib.axes._subplots.AxesSubplot at 0x24f4b813390>"
      ]
     },
     "execution_count": 83,
     "metadata": {},
     "output_type": "execute_result"
    },
    {
     "data": {
      "image/png": "[encoded data removed]",
      "text/plain": [
       "<Figure size 432x288 with 1 Axes>"
      ]
     },
     "metadata": {},
     "output_type": "display_data"
    }
   ],
   "source": [
    "pop1 = pop.sort_values(by = [\"活產新生兒數\"], ascending=False)\n",
    "pop1.plot.bar(x='年份別',y=[\"活產新生兒數\"])"
   ]
  },
  {
   "cell_type": "code",
   "execution_count": null,
   "metadata": {},
   "outputs": [],
   "source": []
  }
 ],
 "metadata": {
  "kernelspec": {
   "display_name": "Python 3",
   "language": "python",
   "name": "python3"
  },
  "language_info": {
   "codemirror_mode": {
    "name": "ipython",
    "version": 3
   },
   "file_extension": ".py",
   "mimetype": "text/x-python",
   "name": "python",
   "nbconvert_exporter": "python",
   "pygments_lexer": "ipython3",
   "version": "3.6.5"
  }
 },
 "nbformat": 4,
 "nbformat_minor": 2
}
