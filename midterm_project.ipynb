{
 "cells": [
  {
   "cell_type": "markdown",
   "metadata": {},
   "source": [
    "# 利用BeautifulSoup進行網頁解析再進行爬蟲最後利用Jieba斷詞將歌詞進行分析"
   ]
  },
  {
   "cell_type": "code",
   "execution_count": 1,
   "metadata": {},
   "outputs": [
    {
     "name": "stdout",
     "output_type": "stream",
     "text": [
      "input:偉大的渺小\n"
     ]
    },
    {
     "name": "stderr",
     "output_type": "stream",
     "text": [
      "Building prefix dict from the default dictionary ...\n",
      "Loading model from cache C:\\Users\\MSI\\AppData\\Local\\Temp\\jieba.cache\n",
      "Loading model cost 0.980 seconds.\n",
      "Prefix dict has been built succesfully.\n"
     ]
    },
    {
     "name": "stdout",
     "output_type": "stream",
     "text": [
      "['一 朵玫瑰 被 刺圍 繞   也 許它 也 渴望 擁抱', '海豚 臉上 總有 微笑   也 許淚 被 大海 洗掉', '是 不 讓 人 知道   你 我 幸福 或 難 熬', '好 或 糟   藏進 外表 的 孤傲', '其實 我 想要   一種 美夢睡 不著   一種 心臟 的 狂 跳', '瓦解 界線 不 被 撂倒   奔跑   依靠', '我 心中 最 想要   看 你 看過 的 浪潮   陪 你 放肆 地 年少', '從 你 眼神 能 找到   解藥', '宇宙 一絲 一毫   偉大 並非 湊巧', '我   握 的 手握 好   我   或許 很 渺小', '也 絕不逃', '夜晚 星辰 高調 閃耀   也 許是 最 後 的 燃燒', '候鳥 能 自由 飛得 高   也 許是 流浪 的 符號', '可是 誰 又 知道   你 我 曾 有過 煎熬', '把 客套   捍衛僅 有 的 驕傲', '其實 我 想要   一種 美夢睡 不著   一種 心臟 的 狂 跳', '瓦解 界線 不 被 撂倒   奔跑   依靠', '我 心中 最 想要   看 你 看過 的 浪潮   陪 你 放肆 地 年少', '從 你 眼神 能 找到   解藥', '宇宙 一絲 一毫   偉大 並非 湊巧', '我   握 的 手握 好   我   或許 很 渺小', '那 之前 我要   抱 你 在 逆流 人潮   懂 你 每個 淚 和 笑', '從 你 故事 中 找到   美妙   努力 不會 徒勞', '愛並 非 湊巧   我們 握 的 手握 好', '我們 就算 很 渺小   也 絕不逃', '握 的 手握 好   我 有 多 渺小', '也 做 得到']\n"
     ]
    }
   ],
   "source": [
    "from bs4 import BeautifulSoup\n",
    "import re                     \n",
    "import random\n",
    "import requests               \n",
    "import jieba\n",
    "#讀入魔鏡歌詞網\n",
    "base_url = \"https://mojim.com\"\n",
    "\n",
    "\n",
    "string = input(\"input:\")\n",
    "his = [\"/\"+string+\".html?t3\"]\n",
    "url = \"https://mojim.com/\"+string+\".html?t3\"\n",
    "html = requests.get(url)     \n",
    "soup = BeautifulSoup(html.text,'lxml') \n",
    "\n",
    "sub_urls = soup.select('span.mxsh_ss4 a')  \n",
    "\n",
    "#以歌名為媒介，找到所有INPUT有提到的歌名，並找出最相關的\n",
    "for sub in sub_urls:         \n",
    "\n",
    "    his.append(sub['href'])\n",
    "    \n",
    "\n",
    "L_url = base_url + his[1]    \n",
    "\n",
    "#跳入歌名所在的URL，並對底下歌詞進行爬取 \n",
    "L_res = requests.get(L_url)\n",
    "L_soup = BeautifulSoup(L_res.text,'lxml')\n",
    "Lyrics = L_soup.select('#fsZx3')[0]\n",
    "\n",
    "\n",
    "A = list(Lyrics)\n",
    "\n",
    "rd2train=[]\n",
    "#去掉一些歌詞以外，我們不需要的資訊\n",
    "for L in A:\n",
    "    if(str(type(L)) == \"<class 'bs4.element.Tag'>\"):\n",
    "        pass;\n",
    "    elif('更多更詳盡歌詞' in L):\n",
    "        pass;\n",
    "\n",
    "    elif('片尾曲' in L or '改編詞' in L or '片頭曲' in L or '合唱' in L or '作者' in L or '作曲' in L or '和聲' in L or '插曲' in L or '主題曲' in L or '女聲' in L or '作詞' in L or '編曲' in L or '主唱' in L or '監製' in L or '製作' in L or '原唱'in L or '演唱' in L):\n",
    "        pass;\n",
    "    elif('--' in L or '[' in L):\n",
    "        break;\n",
    "    else:\n",
    "\n",
    "        rd2train.append(L)\n",
    "        \n",
    "#利用Jieba斷詞對歌詞進行分類以及去除空格以及換行\n",
    "jb=[]\n",
    "for i in rd2train:\n",
    "    if(\"\\u3000\" in i):\n",
    "        j = i.split('\\u3000')\n",
    "        for k in range(len(j)):\n",
    "            jb.append(j[k])\n",
    "    elif(\"\\n\" in i):\n",
    "        pass;\n",
    "    else:\n",
    "        jb.append(i)\n",
    "\n",
    "seg_list1=[]\n",
    "for i in range(len(jb)):\n",
    "    seg_list1.append(' '.join(list(jieba.cut(jb[i], cut_all=False))))\n",
    "\n",
    "print(seg_list1)\n",
    "\n",
    "# 對歌詞進行存檔到我們要的位置即完成\n",
    "path ='SONG/song.txt'\n",
    "with open(path,'w',encoding= 'utf-8') as st:\n",
    "    for i in range(len(seg_list1)):\n",
    "        st.write(seg_list1[i])\n",
    "        st.write('\\n')"
   ]
  },
  {
   "cell_type": "code",
   "execution_count": null,
   "metadata": {},
   "outputs": [],
   "source": []
  }
 ],
 "metadata": {
  "kernelspec": {
   "display_name": "Python 3",
   "language": "python",
   "name": "python3"
  },
  "language_info": {
   "codemirror_mode": {
    "name": "ipython",
    "version": 3
   },
   "file_extension": ".py",
   "mimetype": "text/x-python",
   "name": "python",
   "nbconvert_exporter": "python",
   "pygments_lexer": "ipython3",
   "version": "3.6.5"
  }
 },
 "nbformat": 4,
 "nbformat_minor": 2
}
